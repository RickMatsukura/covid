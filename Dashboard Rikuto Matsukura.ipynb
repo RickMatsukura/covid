{
 "cells": [
  {
   "cell_type": "markdown",
   "metadata": {},
   "source": [
    "[DIY Covid-19 Dashboard Kit](https://github.com/fsmeraldi/diy-covid19dash) (C) Fabrizio Smeraldi, 2020 ([f.smeraldi@qmul.ac.uk](mailto:f.smeraldi@qmul.ac.uk) - [web](http://www.eecs.qmul.ac.uk/~fabri/)). This notebook is released under the [GNU GPLv3.0 or later](https://www.gnu.org/licenses/)."
   ]
  },
  {
   "cell_type": "markdown",
   "metadata": {},
   "source": [
    "# DIY Covid-19 Dashboard"
   ]
  },
  {
   "cell_type": "markdown",
   "metadata": {},
   "source": [
    "This is a template for your DIY Covid Dashboard, to which you can add the code you developed in the previous notebooks. The dashboard will be displayed using [voila](https://voila.readthedocs.io/en/stable/index.html), a Python dashboarding tool that converts notebooks to standalone dashboards. Contrary to the other libraries we have seen, the ```voila``` package must be installed using *pip* or *conda* but it does not need to be imported - it rather acts at the level of the notebook server. Package ```voila``` is already installed on the QMUL JupyterHub as well as in the Binder - to install it locally, follow the [instructions](https://voila.readthedocs.io/en/stable/install.html) online.\n",
    "\n",
    "Broadly speaking, Voila acts by **running all the cells in your notebook** when the dashboard is first loaded; it then hides all code cells and displays all markdown cells and any outputs, including widgets. However, the code is still there in the background and handles any interaction with the widgets. To view this dashboard template rendered in Voila click [here](https://mybinder.org/v2/gh/fsmeraldi/diy-covid19dash/main?urlpath=%2Fvoila%2Frender%2FDashboard.ipynb)."
   ]
  },
  {
   "cell_type": "code",
   "execution_count": 1,
   "metadata": {
    "tags": []
   },
   "outputs": [],
   "source": [
    "from IPython.display import clear_output\n",
    "import ipywidgets as wdg\n",
    "import pandas as pd\n",
    "import numpy as np\n",
    "import matplotlib.pyplot as plt\n",
    "import json\n",
    "from uk_covid19 import Cov19API"
   ]
  },
  {
   "cell_type": "code",
   "execution_count": 2,
   "metadata": {
    "tags": []
   },
   "outputs": [],
   "source": [
    "%matplotlib inline\n",
    "plt.rcParams['figure.dpi'] = 130"
   ]
  },
  {
   "cell_type": "markdown",
   "metadata": {},
   "source": [
    "## Load initial data from disk\n",
    "\n",
    "You should include \"canned\" data in ```.json``` files along with your dashboard. When the dashboard starts, it should load that data and assign it as a dictionary to the ```jsondata``` variable (the code below will be hidden when the dashboard is rendered by Voila)."
   ]
  },
  {
   "cell_type": "code",
   "execution_count": 3,
   "metadata": {
    "tags": []
   },
   "outputs": [],
   "source": [
    "# Load JSON files and store the raw data\n",
    "with open(\"vaccinatedpeople.json\", \"rt\") as INFILE:\n",
    "    data = json.load(INFILE)"
   ]
  },
  {
   "cell_type": "markdown",
   "metadata": {},
   "source": [
    "## Wrangle the data\n",
    "\n",
    "The dashboard should contain the logic to wrangle the raw data into a ```DataFrame``` (or more than one, as required) that will be used for plotting. The wrangling code should be put into a function and called on the data from the JSON file (we'll need to call it again on any data downloaded from the API).  In this template, we just pretend we are wrangling ```rawdata``` and instead generate a dataframe with some random data"
   ]
  },
  {
   "cell_type": "code",
   "execution_count": 4,
   "metadata": {
    "tags": []
   },
   "outputs": [],
   "source": [
    "def wrangle_data(data):\n",
    "    #Get the data from JSON file or API call and sort the date\n",
    "    datalist=data['body']\n",
    "    dates=[i['date'] for i in datalist ]\n",
    "    dates.sort()\n",
    "    \n",
    "    def parse_date(datestring):\n",
    "    # Convert the date string into a pandas datetime object\n",
    "        return pd.to_datetime(datestring, format=\"%Y-%m-%d\")\n",
    "\n",
    "    # Defining the startdate and enddate from parse_date\n",
    "    startdate=parse_date(dates[0])\n",
    "    enddate=parse_date(dates[-1])\n",
    "\n",
    "    # Set \"index\" as range from startdate to enddate by day\n",
    "    index=pd.date_range(startdate, enddate, freq='D')\n",
    "    # Define dataframe within index and columns\n",
    "    vaccinatedpeopledf=pd.DataFrame(index=index, columns=['cumPeopleVaccinatedFirstDoseByPublishDate', 'cumPeopleVaccinatedSecondDoseByPublishDate', 'cumPeopleVaccinatedThirdInjectionByPublishDate'])\n",
    "\n",
    "    for i in datalist: # each \"i\" is a dictionary with date, cumPeopleVaccinatedFirstDoseByPublishDate, cumPeopleVaccinatedSecondDoseByPublishDate and cumPeopleVaccinatedThirdInjectionByPublishDate\n",
    "        date=parse_date(i['date'])\n",
    "        for column in ['cumPeopleVaccinatedFirstDoseByPublishDate', 'cumPeopleVaccinatedSecondDoseByPublishDate', 'cumPeopleVaccinatedThirdInjectionByPublishDate']:\n",
    "            if pd.isna(vaccinatedpeopledf.loc[date, column]): \n",
    "                # replace None with 0 in our data \n",
    "                value=float(i[column]) if i[column]!=None else 0\n",
    "                # access a specific location in the dataframe using .loc\n",
    "                # and put index,column in a single set of [ ]\n",
    "                vaccinatedpeopledf.loc[date, column]=value\n",
    "            \n",
    "    # fill null value with 0\n",
    "    vaccinatedpeopledf.fillna(0, inplace=True)\n",
    "    \n",
    "    return vaccinatedpeopledf\n",
    "\n",
    "# putting the wrangling code into a function allows you to call it again after refreshing the data through \n",
    "# the API. You should call the function directly on the JSON data when the dashboard starts, by including \n",
    "# the call in this cell as below:\n",
    "vaccinatedpeopledf=wrangle_data(data) # vaccinatedpeopledfdf is the dataframe for plotting"
   ]
  },
  {
   "cell_type": "markdown",
   "metadata": {},
   "source": [
    "## Download current data"
   ]
  },
  {
   "cell_type": "markdown",
   "metadata": {},
   "source": [
    "Give your users an option to refresh the dataset - a \"refresh\" button will do. The button callback should\n",
    "* call the code that accesses the API and download some fresh raw data;\n",
    "* wrangle that data into a dataframe and update the corresponding (global) variable for plotting (here, ```df```);\n",
    "* optionally: force a redraw of the graph and give the user some fredback.\n",
    "\n",
    "Once you get it to work, you may want to wrap your API call inside an exception handler, so that the user is informed, the \"canned\" data are not overwritten and nothing crashes if for any reason the server cannot be reached or data are not available.\n",
    "\n",
    "After you refresh the data, graphs will not update until the user interacts with a widget. You can trick ```iPywidgets``` into redrawing the graph by simulating interaction, as in the ```refresh_graph``` function we define in the Graph and Analysis section below.\n",
    "\n",
    "In this example, clicking on the button below just generates some more random data and refreshes the graph. The button should read *Fetch Data*. If you see anything else, take a deep breath :)"
   ]
  },
  {
   "cell_type": "code",
   "execution_count": 5,
   "metadata": {
    "tags": []
   },
   "outputs": [],
   "source": [
    "# Create a refresh button which will refresh the graph when clicked\n",
    "def access_api():\n",
    "    \n",
    "    filters=[\n",
    "    'areaType=Region',\n",
    "    'areaName=London'\n",
    "    ]\n",
    "    \n",
    "    structure={\n",
    "        \"date\": \"date\",\n",
    "        \"cumPeopleVaccinatedFirstDoseByPublishDate\": \"cumPeopleVaccinatedFirstDoseByPublishDate\",\n",
    "        \"cumPeopleVaccinatedSecondDoseByPublishDate\": \"cumPeopleVaccinatedSecondDoseByPublishDate\",\n",
    "        \"cumPeopleVaccinatedThirdInjectionByPublishDate\": \"cumPeopleVaccinatedThirdInjectionByPublishDate\" \n",
    "    }\n",
    "    \n",
    "    api=Cov19API(filters=filters, structure=structure)\n",
    "    \n",
    "    vaccinatedpeople=api.get_json()\n",
    "    \n",
    "    return data # Return data read from the API"
   ]
  },
  {
   "cell_type": "code",
   "execution_count": 6,
   "metadata": {
    "tags": []
   },
   "outputs": [
    {
     "data": {
      "application/vnd.jupyter.widget-view+json": {
       "model_id": "db4d1e0498104867a5fb33ab9f161d1e",
       "version_major": 2,
       "version_minor": 0
      },
      "text/plain": [
       "Button(button_style='warning', description='Refresh Data', icon='exclamation-triangle', style=ButtonStyle(), t…"
      ]
     },
     "metadata": {},
     "output_type": "display_data"
    }
   ],
   "source": [
    "def api_button_callback(button):\n",
    "    # Get raw data from the API\n",
    "    apidata=access_api()\n",
    "    # Wrangle the data and overwrite the dataframe for plotting using global df\n",
    "    global df\n",
    "    # Call a function wrangle_data and pass apidata\n",
    "    df=wrangle_data(apidata)\n",
    "    refresh_graph(series.value, scale.value)\n",
    "    # Change the icon to refresh\n",
    "    apibutton.icon=\"refresh\"\n",
    "    # Button is active and can be clicked as many as user want\n",
    "    apibutton.disabled=False\n",
    "\n",
    "apibutton=wdg.Button(\n",
    "    description='Refresh Data',\n",
    "    disabled=False,\n",
    "    button_style='warning',\n",
    "    tooltip=\"Click to download current Public Health London data\",\n",
    "    icon='exclamation-triangle'\n",
    ")\n",
    "\n",
    "# Register button_callback function, name of the function inside the brackets, with the button\n",
    "apibutton.on_click(api_button_callback) \n",
    "\n",
    "display(apibutton)"
   ]
  },
  {
   "cell_type": "markdown",
   "metadata": {},
   "source": [
    "## Graphs and Analysis"
   ]
  },
  {
   "cell_type": "markdown",
   "metadata": {},
   "source": [
    "Include at least one graph with interactive controls, as well as some instructions for the user and/or comments on what the graph represents and how it should be explored (this example shows two random walks)"
   ]
  },
  {
   "cell_type": "code",
   "execution_count": 7,
   "metadata": {
    "tags": []
   },
   "outputs": [
    {
     "data": {
      "application/vnd.jupyter.widget-view+json": {
       "model_id": "41f572a88e0749d2a9b458842283c6b3",
       "version_major": 2,
       "version_minor": 0
      },
      "text/plain": [
       "HBox(children=(SelectMultiple(description='Stats:', index=(0, 1, 2), options=('cumPeopleVaccinatedFirstDoseByP…"
      ]
     },
     "metadata": {},
     "output_type": "display_data"
    },
    {
     "data": {
      "application/vnd.jupyter.widget-view+json": {
       "model_id": "1fd7652872f1437bbd38de8f91114b87",
       "version_major": 2,
       "version_minor": 0
      },
      "text/plain": [
       "Output()"
      ]
     },
     "metadata": {},
     "output_type": "display_data"
    }
   ],
   "source": [
    "# Set a multiple selection widget for series\n",
    "series=wdg.SelectMultiple(\n",
    "    options=['cumPeopleVaccinatedFirstDoseByPublishDate', 'cumPeopleVaccinatedSecondDoseByPublishDate', 'cumPeopleVaccinatedThirdInjectionByPublishDate'],\n",
    "    value=['cumPeopleVaccinatedFirstDoseByPublishDate', 'cumPeopleVaccinatedSecondDoseByPublishDate', 'cumPeopleVaccinatedThirdInjectionByPublishDate'],\n",
    "    rows=3,\n",
    "    description='Stats:',\n",
    "    disabled=False\n",
    ")\n",
    "\n",
    "# Set a radio button widget for scale\n",
    "scale=wdg.RadioButtons(\n",
    "    options=['linear', 'log'],\n",
    "    value='linear', \n",
    "    description='Scale:',\n",
    "    disabled=False\n",
    ")\n",
    "\n",
    "# Try replacing HBox with a VBox\n",
    "controls=wdg.HBox([series, scale])\n",
    "\n",
    "# Create a function for refresh the data\n",
    "def refresh_graph(gcols, gscale):\n",
    "    series.value=['cumPeopleVaccinatedFirstDoseByPublishDate', 'cumPeopleVaccinatedSecondDoseByPublishDate', 'cumPeopleVaccinatedThirdInjectionByPublishDate'] # Back to the default\n",
    "    scale.value='linear'\n",
    "\n",
    "# Callback function\n",
    "def vaccinatedpeople_graph(gcols, gscale):\n",
    "    if gscale=='linear':\n",
    "        logscale=False\n",
    "    else:\n",
    "        logscale=True\n",
    "    ncols=len(gcols)\n",
    "    if ncols>0:\n",
    "        vaccinatedpeopledf[list(gcols)].plot(logy=logscale)\n",
    "        plt.title('CumPeopleVaccinated') # Put title to graph\n",
    "        plt.xlabel('Date') # Put xlabel to graph\n",
    "        plt.ylabel('Number of Vaccinated People') # Put ylabel to graph\n",
    "        plt.show() # To update the graph\n",
    "    else:\n",
    "        print(\"Click to select data for graph\")\n",
    "        print(\"(CTRL-Click to select more than one category)\")\n",
    "    \n",
    "\n",
    "# Keep calling vaccinatedpeople_graph(gcols=value_of_series, gscale=value_of_scale); \n",
    "# Capture output in widget graph   \n",
    "graph=wdg.interactive_output(vaccinatedpeople_graph, {'gcols': series, 'gscale': scale})\n",
    "\n",
    "display(controls, graph)"
   ]
  },
  {
   "cell_type": "markdown",
   "metadata": {},
   "source": [
    "## Deploying the dashboard\n",
    "\n",
    "Once your code is ready and you are satisfied with the appearance of the graphs, replace all the text boxes above with the explanations you would like a dashboard user to see. The next step is deploying the dashboard online - there are several [options](https://voila.readthedocs.io/en/stable/deploy.html) for this, we suggest deploying as a [Binder](https://mybinder.org/). This is basically the same technique that has been used to package this tutorial and to deploy this template dashboard. The instructions may seem a bit involved, but the actual steps are surprisingly easy - we will be going through them together during a live session. You will need an account on [GitHub](https://github.com/) for this - if you don't have one already, now it's the time to create it. "
   ]
  },
  {
   "cell_type": "markdown",
   "metadata": {},
   "source": [
    "**Author and Copyright Notice** Remember that if you deploy this dashboard as a Binder it will be publicly accessible. Take credit for your work! Also acknowledge your sources: Based on UK Government [data](https://coronavirus.data.gov.uk/) published by [Public Health England](https://www.gov.uk/government/organisations/public-health-england) and on the [DIY Covid Dashboard Kit](https://github.com/fsmeraldi/diy-covid19dash), Copyright (C) Fabrizio Smeraldi 2020,2023. Released under the [GNU GPLv3.0 or later](https://www.gnu.org/licenses/)."
   ]
  },
  {
   "cell_type": "code",
   "execution_count": null,
   "metadata": {},
   "outputs": [],
   "source": []
  }
 ],
 "metadata": {
  "kernelspec": {
   "display_name": "Python 3 (ipykernel)",
   "language": "python",
   "name": "python3"
  },
  "language_info": {
   "codemirror_mode": {
    "name": "ipython",
    "version": 3
   },
   "file_extension": ".py",
   "mimetype": "text/x-python",
   "name": "python",
   "nbconvert_exporter": "python",
   "pygments_lexer": "ipython3",
   "version": "3.10.12"
  }
 },
 "nbformat": 4,
 "nbformat_minor": 4
}
